{
 "cells": [
  {
   "cell_type": "markdown",
   "id": "6ad29e34",
   "metadata": {},
   "source": [
    "# 버전 확인"
   ]
  },
  {
   "cell_type": "code",
   "execution_count": 1,
   "id": "9f9741c1-2e35-4760-bbd7-df0a98366708",
   "metadata": {},
   "outputs": [
    {
     "data": {
      "text/plain": [
       "'3.11.5 | packaged by Anaconda, Inc. | (main, Sep 11 2023, 13:26:23) [MSC v.1916 64 bit (AMD64)]'"
      ]
     },
     "execution_count": 1,
     "metadata": {},
     "output_type": "execute_result"
    }
   ],
   "source": [
    "import sys\n",
    "\n",
    "sys.version"
   ]
  },
  {
   "cell_type": "code",
   "execution_count": 2,
   "id": "23200d43-6ffb-4a8b-8c81-d4efa9865954",
   "metadata": {},
   "outputs": [
    {
     "data": {
      "text/plain": [
       "True"
      ]
     },
     "execution_count": 2,
     "metadata": {},
     "output_type": "execute_result"
    }
   ],
   "source": [
    "import torch\n",
    "\n",
    "torch.cuda.is_available()"
   ]
  },
  {
   "cell_type": "code",
   "execution_count": 3,
   "id": "f2342d7e-d34e-44e7-9061-3e3391982b34",
   "metadata": {},
   "outputs": [
    {
     "name": "stdout",
     "output_type": "stream",
     "text": [
      "WARNING:tensorflow:From s:\\Program Files\\anaconda3\\Lib\\site-packages\\keras\\src\\losses.py:2976: The name tf.losses.sparse_softmax_cross_entropy is deprecated. Please use tf.compat.v1.losses.sparse_softmax_cross_entropy instead.\n",
      "\n",
      "[name: \"/device:CPU:0\"\n",
      "device_type: \"CPU\"\n",
      "memory_limit: 268435456\n",
      "locality {\n",
      "}\n",
      "incarnation: 14390579297527567353\n",
      "xla_global_id: -1\n",
      "]\n"
     ]
    }
   ],
   "source": [
    "from tensorflow.python.client import device_lib\n",
    "print(device_lib.list_local_devices())"
   ]
  },
  {
   "cell_type": "code",
   "execution_count": 4,
   "id": "c215c9d0-916e-4f55-a7fd-9334ceef9d5a",
   "metadata": {},
   "outputs": [
    {
     "data": {
      "text/plain": [
       "'2.15.0'"
      ]
     },
     "execution_count": 4,
     "metadata": {},
     "output_type": "execute_result"
    }
   ],
   "source": [
    "import tensorflow as tf\n",
    "\n",
    "tf.__version__"
   ]
  },
  {
   "cell_type": "code",
   "execution_count": 5,
   "id": "ac055689-d97d-46b1-9e77-55698ad037e3",
   "metadata": {},
   "outputs": [
    {
     "name": "stdout",
     "output_type": "stream",
     "text": [
      "nvcc: NVIDIA (R) Cuda compiler driver\n",
      "Copyright (c) 2005-2023 NVIDIA Corporation\n",
      "Built on Wed_Feb__8_05:53:42_Coordinated_Universal_Time_2023\n",
      "Cuda compilation tools, release 12.1, V12.1.66\n",
      "Build cuda_12.1.r12.1/compiler.32415258_0\n"
     ]
    }
   ],
   "source": [
    "!nvcc --version"
   ]
  },
  {
   "cell_type": "code",
   "execution_count": 6,
   "id": "fd432e9f",
   "metadata": {},
   "outputs": [
    {
     "name": "stdout",
     "output_type": "stream",
     "text": [
      "Fri Feb 16 19:00:30 2024       \n",
      "+---------------------------------------------------------------------------------------+\n",
      "| NVIDIA-SMI 546.12                 Driver Version: 546.12       CUDA Version: 12.3     |\n",
      "|-----------------------------------------+----------------------+----------------------+\n",
      "| GPU  Name                     TCC/WDDM  | Bus-Id        Disp.A | Volatile Uncorr. ECC |\n",
      "| Fan  Temp   Perf          Pwr:Usage/Cap |         Memory-Usage | GPU-Util  Compute M. |\n",
      "|                                         |                      |               MIG M. |\n",
      "|=========================================+======================+======================|\n",
      "|   0  NVIDIA GeForce GTX 1660 ...  WDDM  | 00000000:08:00.0  On |                  N/A |\n",
      "| 31%   46C    P0              28W / 125W |    710MiB /  6144MiB |      2%      Default |\n",
      "|                                         |                      |                  N/A |\n",
      "+-----------------------------------------+----------------------+----------------------+\n",
      "                                                                                         \n",
      "+---------------------------------------------------------------------------------------+\n",
      "| Processes:                                                                            |\n",
      "|  GPU   GI   CI        PID   Type   Process name                            GPU Memory |\n",
      "|        ID   ID                                                             Usage      |\n",
      "|=======================================================================================|\n",
      "|    0   N/A  N/A      8888    C+G   C:\\Windows\\explorer.exe                   N/A      |\n",
      "|    0   N/A  N/A      9784    C+G   ...2txyewy\\StartMenuExperienceHost.exe    N/A      |\n",
      "|    0   N/A  N/A     10656    C+G   ...5n1h2txyewy\\ShellExperienceHost.exe    N/A      |\n",
      "|    0   N/A  N/A     11732    C+G   ...GeForce Experience\\NVIDIA Share.exe    N/A      |\n",
      "|    0   N/A  N/A     12976    C+G   ...oogle\\Chrome\\Application\\chrome.exe    N/A      |\n",
      "|    0   N/A  N/A     13780    C+G   ...GeForce Experience\\NVIDIA Share.exe    N/A      |\n",
      "|    0   N/A  N/A     14280    C+G   ...CBS_cw5n1h2txyewy\\TextInputHost.exe    N/A      |\n",
      "|    0   N/A  N/A     15100    C+G   ...Programs\\Microsoft VS Code\\Code.exe    N/A      |\n",
      "|    0   N/A  N/A     17392    C+G   ....0_x64__8wekyb3d8bbwe\\PhotosApp.exe    N/A      |\n",
      "|    0   N/A  N/A     17604    C+G   ...1.0_x64__8wekyb3d8bbwe\\Video.UI.exe    N/A      |\n",
      "|    0   N/A  N/A     18320    C+G   ....Search_cw5n1h2txyewy\\SearchApp.exe    N/A      |\n",
      "|    0   N/A  N/A     18832    C+G   ...crosoft\\Edge\\Application\\msedge.exe    N/A      |\n",
      "+---------------------------------------------------------------------------------------+\n"
     ]
    }
   ],
   "source": [
    "!nvidia-smi"
   ]
  },
  {
   "cell_type": "code",
   "execution_count": 7,
   "id": "28eb061d-70c1-4f5d-aac6-b6a2ef426d0d",
   "metadata": {},
   "outputs": [
    {
     "data": {
      "text/plain": [
       "'NVIDIA GeForce GTX 1660 SUPER'"
      ]
     },
     "execution_count": 7,
     "metadata": {},
     "output_type": "execute_result"
    }
   ],
   "source": [
    "torch.cuda.get_device_name(0)"
   ]
  },
  {
   "cell_type": "code",
   "execution_count": 1,
   "id": "b65927b2",
   "metadata": {},
   "outputs": [],
   "source": [
    "import glob\n",
    "import os\n",
    "from glob import glob\n",
    "import yaml\n",
    "\n",
    "os.environ[\"GIT_PYTHON_REFRESH\"] = \"quiet\""
   ]
  },
  {
   "cell_type": "code",
   "execution_count": 2,
   "id": "3f8f74ec-8bd1-4461-b161-106649d1d927",
   "metadata": {},
   "outputs": [],
   "source": [
    "def translabel(foldername, after_label):\n",
    "    # 폴더 안에 있는 txt 파일 리스트\n",
    "    filelist = glob.glob('{}\\\\*.txt'.format(foldername))\n",
    "\n",
    "    # 변환시킨 후 넣을 폴더 생성\n",
    "    if not os.path.isdir('trans_'+foldername):\n",
    "        os.mkdir('trans_'+foldername)\n",
    "\n",
    "    # 변환\n",
    "    for filename in filelist:\n",
    "        with open(filename, 'r') as f:\n",
    "            txtlines = ''\n",
    "            lines = f.readlines()\n",
    "            for line in lines:\n",
    "                # 첫번째 공백 찾기 (기존 라벨 찾아내기1)\n",
    "                first_blank = line.find(' ')\n",
    "\n",
    "                # 공백앞의 문자\n",
    "                pre_num = line[0:first_blank]\n",
    "\n",
    "                # 공백앞의 문자 제거\n",
    "                rm_pre_num = line.lstrip(pre_num)\n",
    "\n",
    "                # 바꿀 문장\n",
    "                after_line = str(after_label) + rm_pre_num\n",
    "                txtlines += after_line\n",
    "\n",
    "            # 바뀐것 생성\n",
    "            with open('trans_' + filename, 'w') as f2:\n",
    "                f2.write(txtlines)"
   ]
  },
  {
   "cell_type": "markdown",
   "id": "9a8c6e18",
   "metadata": {},
   "source": [
    "# 이미지와 가중치 설정"
   ]
  },
  {
   "cell_type": "code",
   "execution_count": 3,
   "id": "d85a4b21",
   "metadata": {},
   "outputs": [
    {
     "name": "stdout",
     "output_type": "stream",
     "text": [
      "['.\\\\image_data\\\\birdsongmush (1).jpeg', '.\\\\image_data\\\\birdsongmush (10).jpeg', '.\\\\image_data\\\\birdsongmush (11).jpeg', '.\\\\image_data\\\\birdsongmush (12).jpeg', '.\\\\image_data\\\\birdsongmush (13).jpeg', '.\\\\image_data\\\\birdsongmush (14).jpeg', '.\\\\image_data\\\\birdsongmush (15).jpeg', '.\\\\image_data\\\\birdsongmush (16).jpeg', '.\\\\image_data\\\\birdsongmush (17).jpeg', '.\\\\image_data\\\\birdsongmush (18).jpeg', '.\\\\image_data\\\\birdsongmush (19).jpeg', '.\\\\image_data\\\\birdsongmush (2).jpeg', '.\\\\image_data\\\\birdsongmush (20).jpeg', '.\\\\image_data\\\\birdsongmush (3).jpeg', '.\\\\image_data\\\\birdsongmush (4).jpeg', '.\\\\image_data\\\\birdsongmush (5).jpeg', '.\\\\image_data\\\\birdsongmush (6).jpeg', '.\\\\image_data\\\\birdsongmush (7).jpeg', '.\\\\image_data\\\\birdsongmush (8).jpeg', '.\\\\image_data\\\\birdsongmush (9).jpeg', '.\\\\image_data\\\\bread (1).jpeg', '.\\\\image_data\\\\bread (10).jpeg', '.\\\\image_data\\\\bread (11).jpeg', '.\\\\image_data\\\\bread (12).jpeg', '.\\\\image_data\\\\bread (13).jpeg', '.\\\\image_data\\\\bread (14).jpeg', '.\\\\image_data\\\\bread (15).jpeg', '.\\\\image_data\\\\bread (16).jpeg', '.\\\\image_data\\\\bread (17).jpeg', '.\\\\image_data\\\\bread (18).jpeg', '.\\\\image_data\\\\bread (19).jpeg', '.\\\\image_data\\\\bread (2).jpeg', '.\\\\image_data\\\\bread (20).jpeg', '.\\\\image_data\\\\bread (3).jpeg', '.\\\\image_data\\\\bread (4).jpeg', '.\\\\image_data\\\\bread (5).jpeg', '.\\\\image_data\\\\bread (6).jpeg', '.\\\\image_data\\\\bread (7).jpeg', '.\\\\image_data\\\\bread (8).jpeg', '.\\\\image_data\\\\bread (9).jpeg', '.\\\\image_data\\\\cucumber (1).jpeg', '.\\\\image_data\\\\cucumber (10).jpeg', '.\\\\image_data\\\\cucumber (11).jpeg', '.\\\\image_data\\\\cucumber (12).jpeg', '.\\\\image_data\\\\cucumber (13).jpeg', '.\\\\image_data\\\\cucumber (14).jpeg', '.\\\\image_data\\\\cucumber (15).jpeg', '.\\\\image_data\\\\cucumber (16).jpeg', '.\\\\image_data\\\\cucumber (17).jpeg', '.\\\\image_data\\\\cucumber (18).jpeg', '.\\\\image_data\\\\cucumber (19).jpeg', '.\\\\image_data\\\\cucumber (2).jpeg', '.\\\\image_data\\\\cucumber (20).jpeg', '.\\\\image_data\\\\cucumber (3).jpeg', '.\\\\image_data\\\\cucumber (4).jpeg', '.\\\\image_data\\\\cucumber (5).jpeg', '.\\\\image_data\\\\cucumber (6).jpeg', '.\\\\image_data\\\\cucumber (7).jpeg', '.\\\\image_data\\\\cucumber (8).jpeg', '.\\\\image_data\\\\cucumber (9).jpeg', '.\\\\image_data\\\\egg (1).jpeg', '.\\\\image_data\\\\egg (10).jpeg', '.\\\\image_data\\\\egg (11).jpeg', '.\\\\image_data\\\\egg (12).jpeg', '.\\\\image_data\\\\egg (13).jpeg', '.\\\\image_data\\\\egg (14).jpeg', '.\\\\image_data\\\\egg (15).jpeg', '.\\\\image_data\\\\egg (16).jpeg', '.\\\\image_data\\\\egg (17).jpeg', '.\\\\image_data\\\\egg (18).jpeg', '.\\\\image_data\\\\egg (19).jpeg', '.\\\\image_data\\\\egg (2).jpeg', '.\\\\image_data\\\\egg (20).jpeg', '.\\\\image_data\\\\egg (3).jpeg', '.\\\\image_data\\\\egg (4).jpeg', '.\\\\image_data\\\\egg (5).jpeg', '.\\\\image_data\\\\egg (6).jpeg', '.\\\\image_data\\\\egg (7).jpeg', '.\\\\image_data\\\\egg (8).jpeg', '.\\\\image_data\\\\egg (9).jpeg', '.\\\\image_data\\\\fishcake (1).jpeg', '.\\\\image_data\\\\fishcake (10).jpeg', '.\\\\image_data\\\\fishcake (11).jpeg', '.\\\\image_data\\\\fishcake (12).jpeg', '.\\\\image_data\\\\fishcake (13).jpeg', '.\\\\image_data\\\\fishcake (14).jpeg', '.\\\\image_data\\\\fishcake (15).jpeg', '.\\\\image_data\\\\fishcake (16).jpeg', '.\\\\image_data\\\\fishcake (17).jpeg', '.\\\\image_data\\\\fishcake (18).jpeg', '.\\\\image_data\\\\fishcake (19).jpeg', '.\\\\image_data\\\\fishcake (2).jpeg', '.\\\\image_data\\\\fishcake (20).jpeg', '.\\\\image_data\\\\fishcake (3).jpeg', '.\\\\image_data\\\\fishcake (4).jpeg', '.\\\\image_data\\\\fishcake (5).jpeg', '.\\\\image_data\\\\fishcake (6).jpeg', '.\\\\image_data\\\\fishcake (7).jpeg', '.\\\\image_data\\\\fishcake (8).jpeg', '.\\\\image_data\\\\fishcake (9).jpeg', '.\\\\image_data\\\\kimchi (1).jpeg', '.\\\\image_data\\\\kimchi (10).jpeg', '.\\\\image_data\\\\kimchi (11).jpeg', '.\\\\image_data\\\\kimchi (12).jpeg', '.\\\\image_data\\\\kimchi (13).jpeg', '.\\\\image_data\\\\kimchi (14).jpeg', '.\\\\image_data\\\\kimchi (15).jpeg', '.\\\\image_data\\\\kimchi (16).jpeg', '.\\\\image_data\\\\kimchi (17).jpeg', '.\\\\image_data\\\\kimchi (18).jpeg', '.\\\\image_data\\\\kimchi (19).jpeg', '.\\\\image_data\\\\kimchi (2).jpeg', '.\\\\image_data\\\\kimchi (20).jpeg', '.\\\\image_data\\\\kimchi (3).jpeg', '.\\\\image_data\\\\kimchi (4).jpeg', '.\\\\image_data\\\\kimchi (5).jpeg', '.\\\\image_data\\\\kimchi (6).jpeg', '.\\\\image_data\\\\kimchi (7).jpeg', '.\\\\image_data\\\\kimchi (8).jpeg', '.\\\\image_data\\\\kimchi (9).jpeg', '.\\\\image_data\\\\pange (1).jpeg', '.\\\\image_data\\\\pange (10).jpeg', '.\\\\image_data\\\\pange (11).jpeg', '.\\\\image_data\\\\pange (12).jpeg', '.\\\\image_data\\\\pange (13).jpeg', '.\\\\image_data\\\\pange (14).jpeg', '.\\\\image_data\\\\pange (15).jpeg', '.\\\\image_data\\\\pange (16).jpeg', '.\\\\image_data\\\\pange (17).jpeg', '.\\\\image_data\\\\pange (18).jpeg', '.\\\\image_data\\\\pange (19).jpeg', '.\\\\image_data\\\\pange (2).jpeg', '.\\\\image_data\\\\pange (20).jpeg', '.\\\\image_data\\\\pange (3).jpeg', '.\\\\image_data\\\\pange (4).jpeg', '.\\\\image_data\\\\pange (5).jpeg', '.\\\\image_data\\\\pange (6).jpeg', '.\\\\image_data\\\\pange (7).jpeg', '.\\\\image_data\\\\pange (8).jpeg', '.\\\\image_data\\\\pange (9).jpeg', '.\\\\image_data\\\\potato (1).jpeg', '.\\\\image_data\\\\potato (10).jpeg', '.\\\\image_data\\\\potato (11).jpeg', '.\\\\image_data\\\\potato (12).jpeg', '.\\\\image_data\\\\potato (13).jpeg', '.\\\\image_data\\\\potato (14).jpeg', '.\\\\image_data\\\\potato (15).jpeg', '.\\\\image_data\\\\potato (16).jpeg', '.\\\\image_data\\\\potato (17).jpeg', '.\\\\image_data\\\\potato (18).jpeg', '.\\\\image_data\\\\potato (19).jpeg', '.\\\\image_data\\\\potato (2).jpeg', '.\\\\image_data\\\\potato (20).jpeg', '.\\\\image_data\\\\potato (3).jpeg', '.\\\\image_data\\\\potato (4).jpeg', '.\\\\image_data\\\\potato (5).jpeg', '.\\\\image_data\\\\potato (6).jpeg', '.\\\\image_data\\\\potato (7).jpeg', '.\\\\image_data\\\\potato (8).jpeg', '.\\\\image_data\\\\potato (9).jpeg', '.\\\\image_data\\\\samgyeopsal (1).jpeg', '.\\\\image_data\\\\samgyeopsal (10).jpeg', '.\\\\image_data\\\\samgyeopsal (11).jpeg', '.\\\\image_data\\\\samgyeopsal (12).jpeg', '.\\\\image_data\\\\samgyeopsal (13).jpeg', '.\\\\image_data\\\\samgyeopsal (14).jpeg', '.\\\\image_data\\\\samgyeopsal (15).jpeg', '.\\\\image_data\\\\samgyeopsal (16).jpeg', '.\\\\image_data\\\\samgyeopsal (17).jpeg', '.\\\\image_data\\\\samgyeopsal (18).jpeg', '.\\\\image_data\\\\samgyeopsal (19).jpeg', '.\\\\image_data\\\\samgyeopsal (2).jpeg', '.\\\\image_data\\\\samgyeopsal (20).jpeg', '.\\\\image_data\\\\samgyeopsal (3).jpeg', '.\\\\image_data\\\\samgyeopsal (4).jpeg', '.\\\\image_data\\\\samgyeopsal (5).jpeg', '.\\\\image_data\\\\samgyeopsal (6).jpeg', '.\\\\image_data\\\\samgyeopsal (7).jpeg', '.\\\\image_data\\\\samgyeopsal (8).jpeg', '.\\\\image_data\\\\samgyeopsal (9).jpeg', '.\\\\image_data\\\\sausage (1).jpeg', '.\\\\image_data\\\\sausage (10).jpeg', '.\\\\image_data\\\\sausage (11).jpeg', '.\\\\image_data\\\\sausage (12).jpeg', '.\\\\image_data\\\\sausage (13).jpeg', '.\\\\image_data\\\\sausage (14).jpeg', '.\\\\image_data\\\\sausage (15).jpeg', '.\\\\image_data\\\\sausage (16).jpeg', '.\\\\image_data\\\\sausage (17).jpeg', '.\\\\image_data\\\\sausage (18).jpeg', '.\\\\image_data\\\\sausage (19).jpeg', '.\\\\image_data\\\\sausage (2).jpeg', '.\\\\image_data\\\\sausage (3).jpeg', '.\\\\image_data\\\\sausage (4).jpeg', '.\\\\image_data\\\\sausage (5).jpeg', '.\\\\image_data\\\\sausage (6).jpeg', '.\\\\image_data\\\\sausage (7).jpeg', '.\\\\image_data\\\\sausage (8).jpeg', '.\\\\image_data\\\\sausage (9).jpeg', '.\\\\image_data\\\\sausage.jpeg', '.\\\\image_data\\\\tofu (1).jpeg', '.\\\\image_data\\\\tofu (10).jpeg', '.\\\\image_data\\\\tofu (11).jpeg', '.\\\\image_data\\\\tofu (12).jpeg', '.\\\\image_data\\\\tofu (13).jpeg', '.\\\\image_data\\\\tofu (2).jpeg', '.\\\\image_data\\\\tofu (3).jpeg', '.\\\\image_data\\\\tofu (4).jpeg', '.\\\\image_data\\\\tofu (5).jpeg', '.\\\\image_data\\\\tofu (6).jpeg', '.\\\\image_data\\\\tofu (7).jpeg', '.\\\\image_data\\\\tofu (8).jpeg', '.\\\\image_data\\\\tofu (9).jpeg', '.\\\\image_data\\\\beef (1).jpg', '.\\\\image_data\\\\beef (10).jpg', '.\\\\image_data\\\\beef (11).jpg', '.\\\\image_data\\\\beef (12).jpg', '.\\\\image_data\\\\beef (13).jpg', '.\\\\image_data\\\\beef (14).jpg', '.\\\\image_data\\\\beef (15).jpg', '.\\\\image_data\\\\beef (16).jpg', '.\\\\image_data\\\\beef (17).jpg', '.\\\\image_data\\\\beef (18).jpg', '.\\\\image_data\\\\beef (19).jpg', '.\\\\image_data\\\\beef (2).jpg', '.\\\\image_data\\\\beef (20).jpg', '.\\\\image_data\\\\beef (3).jpg', '.\\\\image_data\\\\beef (4).jpg', '.\\\\image_data\\\\beef (5).jpg', '.\\\\image_data\\\\beef (6).jpg', '.\\\\image_data\\\\beef (7).jpg', '.\\\\image_data\\\\beef (8).jpg', '.\\\\image_data\\\\beef (9).jpg', '.\\\\image_data\\\\cabbage (1).jpg', '.\\\\image_data\\\\cabbage (10).jpg', '.\\\\image_data\\\\cabbage (11).jpg', '.\\\\image_data\\\\cabbage (12).jpg', '.\\\\image_data\\\\cabbage (13).jpg', '.\\\\image_data\\\\cabbage (14).jpg', '.\\\\image_data\\\\cabbage (15).jpg', '.\\\\image_data\\\\cabbage (16).jpg', '.\\\\image_data\\\\cabbage (17).jpg', '.\\\\image_data\\\\cabbage (18).jpg', '.\\\\image_data\\\\cabbage (19).jpg', '.\\\\image_data\\\\cabbage (2).jpg', '.\\\\image_data\\\\cabbage (20).jpg', '.\\\\image_data\\\\cabbage (3).jpg', '.\\\\image_data\\\\cabbage (4).jpg', '.\\\\image_data\\\\cabbage (5).jpg', '.\\\\image_data\\\\cabbage (6).jpg', '.\\\\image_data\\\\cabbage (7).jpg', '.\\\\image_data\\\\cabbage (8).jpg', '.\\\\image_data\\\\cabbage (9).jpg', '.\\\\image_data\\\\carding (1).jpg', '.\\\\image_data\\\\carding (10).jpg', '.\\\\image_data\\\\carding (11).jpg', '.\\\\image_data\\\\carding (12).jpg', '.\\\\image_data\\\\carding (13).jpg', '.\\\\image_data\\\\carding (14).jpg', '.\\\\image_data\\\\carding (15).jpg', '.\\\\image_data\\\\carding (16).jpg', '.\\\\image_data\\\\carding (17).jpg', '.\\\\image_data\\\\carding (18).jpg', '.\\\\image_data\\\\carding (19).jpg', '.\\\\image_data\\\\carding (2).jpg', '.\\\\image_data\\\\carding (20).jpg', '.\\\\image_data\\\\carding (3).jpg', '.\\\\image_data\\\\carding (4).jpg', '.\\\\image_data\\\\carding (5).jpg', '.\\\\image_data\\\\carding (6).jpg', '.\\\\image_data\\\\carding (7).jpg', '.\\\\image_data\\\\carding (8).jpg', '.\\\\image_data\\\\carding (9).jpg', '.\\\\image_data\\\\carrot (1).jpg', '.\\\\image_data\\\\carrot (10).jpg', '.\\\\image_data\\\\carrot (11).jpg', '.\\\\image_data\\\\carrot (12).jpg', '.\\\\image_data\\\\carrot (13).jpg', '.\\\\image_data\\\\carrot (14).jpg', '.\\\\image_data\\\\carrot (15).jpg', '.\\\\image_data\\\\carrot (16).jpg', '.\\\\image_data\\\\carrot (17).jpg', '.\\\\image_data\\\\carrot (18).jpg', '.\\\\image_data\\\\carrot (19).jpg', '.\\\\image_data\\\\carrot (2).jpg', '.\\\\image_data\\\\carrot (20).jpg', '.\\\\image_data\\\\carrot (3).jpg', '.\\\\image_data\\\\carrot (4).jpg', '.\\\\image_data\\\\carrot (5).jpg', '.\\\\image_data\\\\carrot (6).jpg', '.\\\\image_data\\\\carrot (7).jpg', '.\\\\image_data\\\\carrot (8).jpg', '.\\\\image_data\\\\carrot (9).jpg', '.\\\\image_data\\\\chicken (1).jpg', '.\\\\image_data\\\\chicken (10).jpg', '.\\\\image_data\\\\chicken (11).jpg', '.\\\\image_data\\\\chicken (12).jpg', '.\\\\image_data\\\\chicken (13).jpg', '.\\\\image_data\\\\chicken (14).jpg', '.\\\\image_data\\\\chicken (15).jpg', '.\\\\image_data\\\\chicken (16).jpg', '.\\\\image_data\\\\chicken (17).jpg', '.\\\\image_data\\\\chicken (18).jpg', '.\\\\image_data\\\\chicken (19).jpg', '.\\\\image_data\\\\chicken (2).jpg', '.\\\\image_data\\\\chicken (20).jpg', '.\\\\image_data\\\\chicken (3).jpg', '.\\\\image_data\\\\chicken (4).jpg', '.\\\\image_data\\\\chicken (5).jpg', '.\\\\image_data\\\\chicken (6).jpg', '.\\\\image_data\\\\chicken (7).jpg', '.\\\\image_data\\\\chicken (8).jpg', '.\\\\image_data\\\\chicken (9).jpg', '.\\\\image_data\\\\greenonion (1).jpg', '.\\\\image_data\\\\greenonion (10).jpg', '.\\\\image_data\\\\greenonion (11).jpg', '.\\\\image_data\\\\greenonion (12).jpg', '.\\\\image_data\\\\greenonion (13).jpg', '.\\\\image_data\\\\greenonion (14).jpg', '.\\\\image_data\\\\greenonion (15).jpg', '.\\\\image_data\\\\greenonion (16).jpg', '.\\\\image_data\\\\greenonion (17).jpg', '.\\\\image_data\\\\greenonion (18).jpg', '.\\\\image_data\\\\greenonion (19).jpg', '.\\\\image_data\\\\greenonion (2).jpg', '.\\\\image_data\\\\greenonion (20).jpg', '.\\\\image_data\\\\greenonion (3).jpg', '.\\\\image_data\\\\greenonion (4).jpg', '.\\\\image_data\\\\greenonion (5).jpg', '.\\\\image_data\\\\greenonion (6).jpg', '.\\\\image_data\\\\greenonion (7).jpg', '.\\\\image_data\\\\greenonion (8).jpg', '.\\\\image_data\\\\greenonion (9).jpg', '.\\\\image_data\\\\onion (1).jpg', '.\\\\image_data\\\\onion (10).jpg', '.\\\\image_data\\\\onion (11).jpg', '.\\\\image_data\\\\onion (12).jpg', '.\\\\image_data\\\\onion (13).jpg', '.\\\\image_data\\\\onion (14).jpg', '.\\\\image_data\\\\onion (15).jpg', '.\\\\image_data\\\\onion (16).jpg', '.\\\\image_data\\\\onion (17).jpg', '.\\\\image_data\\\\onion (18).jpg', '.\\\\image_data\\\\onion (19).jpg', '.\\\\image_data\\\\onion (2).jpg', '.\\\\image_data\\\\onion (20).jpg', '.\\\\image_data\\\\onion (3).jpg', '.\\\\image_data\\\\onion (4).jpg', '.\\\\image_data\\\\onion (5).jpg', '.\\\\image_data\\\\onion (6).jpg', '.\\\\image_data\\\\onion (7).jpg', '.\\\\image_data\\\\onion (8).jpg', '.\\\\image_data\\\\onion (9).jpg', '.\\\\image_data\\\\seeweed (1).jpg', '.\\\\image_data\\\\seeweed (10).jpg', '.\\\\image_data\\\\seeweed (11).jpg', '.\\\\image_data\\\\seeweed (12).jpg', '.\\\\image_data\\\\seeweed (13).jpg', '.\\\\image_data\\\\seeweed (14).jpg', '.\\\\image_data\\\\seeweed (15).jpg', '.\\\\image_data\\\\seeweed (16).jpg', '.\\\\image_data\\\\seeweed (17).jpg', '.\\\\image_data\\\\seeweed (18).jpg', '.\\\\image_data\\\\seeweed (19).jpg', '.\\\\image_data\\\\seeweed (2).jpg', '.\\\\image_data\\\\seeweed (20).jpg', '.\\\\image_data\\\\seeweed (3).jpg', '.\\\\image_data\\\\seeweed (4).jpg', '.\\\\image_data\\\\seeweed (5).jpg', '.\\\\image_data\\\\seeweed (6).jpg', '.\\\\image_data\\\\seeweed (7).jpg', '.\\\\image_data\\\\seeweed (8).jpg', '.\\\\image_data\\\\seeweed (9).jpg', '.\\\\image_data\\\\shrimp (1).jpg', '.\\\\image_data\\\\shrimp (10).jpg', '.\\\\image_data\\\\shrimp (11).jpg', '.\\\\image_data\\\\shrimp (12).jpg', '.\\\\image_data\\\\shrimp (13).jpg', '.\\\\image_data\\\\shrimp (14).jpg', '.\\\\image_data\\\\shrimp (15).jpg', '.\\\\image_data\\\\shrimp (16).jpg', '.\\\\image_data\\\\shrimp (17).jpg', '.\\\\image_data\\\\shrimp (18).jpg', '.\\\\image_data\\\\shrimp (19).jpg', '.\\\\image_data\\\\shrimp (2).jpg', '.\\\\image_data\\\\shrimp (20).jpg', '.\\\\image_data\\\\shrimp (3).jpg', '.\\\\image_data\\\\shrimp (4).jpg', '.\\\\image_data\\\\shrimp (5).jpg', '.\\\\image_data\\\\shrimp (6).jpg', '.\\\\image_data\\\\shrimp (7).jpg', '.\\\\image_data\\\\shrimp (8).jpg', '.\\\\image_data\\\\shrimp (9).jpg', '.\\\\image_data\\\\sweetpotato (1).jpg', '.\\\\image_data\\\\sweetpotato (10).jpg', '.\\\\image_data\\\\sweetpotato (11).jpg', '.\\\\image_data\\\\sweetpotato (12).jpg', '.\\\\image_data\\\\sweetpotato (13).jpg', '.\\\\image_data\\\\sweetpotato (14).jpg', '.\\\\image_data\\\\sweetpotato (15).jpg', '.\\\\image_data\\\\sweetpotato (16).jpg', '.\\\\image_data\\\\sweetpotato (17).jpg', '.\\\\image_data\\\\sweetpotato (18).jpg', '.\\\\image_data\\\\sweetpotato (19).jpg', '.\\\\image_data\\\\sweetpotato (2).jpg', '.\\\\image_data\\\\sweetpotato (20).jpg', '.\\\\image_data\\\\sweetpotato (3).jpg', '.\\\\image_data\\\\sweetpotato (4).jpg', '.\\\\image_data\\\\sweetpotato (5).jpg', '.\\\\image_data\\\\sweetpotato (6).jpg', '.\\\\image_data\\\\sweetpotato (7).jpg', '.\\\\image_data\\\\sweetpotato (8).jpg', '.\\\\image_data\\\\sweetpotato (9).jpg', '.\\\\image_data\\\\tofu (14).jpg', '.\\\\image_data\\\\tofu (15).jpg', '.\\\\image_data\\\\tofu (16).jpg', '.\\\\image_data\\\\tofu (17).jpg', '.\\\\image_data\\\\tofu (18).jpg', '.\\\\image_data\\\\tofu (19).jpg', '.\\\\image_data\\\\tofu (20).jpg']\n",
      "{'names': ['potato', 'kimchi', 'tofu', 'onion', 'egg', 'sweet potato', 'enoki mushroom', 'cucumber', 'bread', 'King oyster mushroom', 'samgyeopsal', 'chicken', 'beef', 'carrot', 'green onion', 'fish cake', 'carding', 'shrimp', 'sausage', 'seaweed', 'cabbage'], 'nc': 21, 'train': 'train.txt', 'val': 'val.txt'}\n"
     ]
    }
   ],
   "source": [
    "img_list = glob('.\\\\image_data\\\\*.jpeg') # 학습시킬 이미지가 있는 파일 경로\n",
    "img_list2 = glob('.\\\\image_data\\\\*.jpg') # 학습시킬 이미지가 있는 파일 경로\n",
    "\n",
    "for i in img_list2:\n",
    "  img_list.append(i)\n",
    "print(img_list)\n",
    "\n",
    "from sklearn.model_selection import train_test_split\n",
    "# train test split\n",
    "train_img_list, val_img_list = train_test_split(img_list, test_size=0.2, random_state=129) # 8:2\n",
    "\n",
    "# train test split하고 난 파일들의 경로를 저장하고 있는 txt 파일\n",
    "with open('./image_data/data.yaml', 'r') as f:\n",
    "  data = yaml.load(f, Loader=yaml.FullLoader)\n",
    "\n",
    "with open('./yolov5/train.txt', 'w', encoding='utf-8') as f:\n",
    "    f.write('\\n'.join(list(map(str, train_img_list))) + '\\n')\n",
    "\n",
    "with open('./yolov5/val.txt', 'w', encoding='utf-8') as f:\n",
    "    f.write('\\n'.join(list(map(str, val_img_list))) + '\\n')\n",
    "\n",
    "with open('./image_data/data.yaml', 'w', encoding='utf-8') as f:\n",
    "    yaml.dump(data, f, default_flow_style=False, allow_unicode=True)\n",
    "\n",
    "print(data)\n",
    "\n",
    "data['train'] = 'train.txt' # yolov5 경로\n",
    "data['val'] = 'val.txt' # yolov5 경로\n",
    "\n",
    "with open('./image_data/data.yaml', 'w') as f:\n",
    "  yaml.dump(data, f)"
   ]
  },
  {
   "cell_type": "markdown",
   "id": "97be2b6a",
   "metadata": {},
   "source": [
    "# 모델 학습"
   ]
  },
  {
   "cell_type": "code",
   "execution_count": 4,
   "id": "5d05a0cc",
   "metadata": {},
   "outputs": [
    {
     "name": "stdout",
     "output_type": "stream",
     "text": [
      "\u001b[34m\u001b[1mgithub: \u001b[0mskipping check (not a git repository), for updates see https://github.com/ultralytics/yolov5\n"
     ]
    },
    {
     "name": "stderr",
     "output_type": "stream",
     "text": [
      "WARNING:tensorflow:From s:\\Program Files\\anaconda3\\Lib\\site-packages\\keras\\src\\losses.py:2976: The name tf.losses.sparse_softmax_cross_entropy is deprecated. Please use tf.compat.v1.losses.sparse_softmax_cross_entropy instead.\n",
      "\n",
      "\u001b[34m\u001b[1mtrain: \u001b[0mweights=yolov5s.pt, cfg=yolov5/models/yolov5s.yaml, data=image_data/data.yaml, hyp=yolov5\\data\\hyps\\hyp.scratch-low.yaml, epochs=3, batch_size=16, imgsz=416, rect=False, resume=False, nosave=False, noval=False, noautoanchor=False, noplots=False, evolve=None, evolve_population=yolov5\\data\\hyps, resume_evolve=None, bucket=, cache=None, image_weights=False, device=cpu, multi_scale=False, single_cls=False, optimizer=SGD, sync_bn=False, workers=8, project=yolov5\\runs\\train, name=food_yolov5s_results, exist_ok=False, quad=False, cos_lr=False, label_smoothing=0.0, patience=100, freeze=[0], save_period=-1, seed=0, local_rank=-1, entity=None, upload_dataset=False, bbox_interval=-1, artifact_alias=latest, ndjson_console=False, ndjson_file=False\n",
      "YOLOv5  2024-1-18 Python-3.11.5 torch-2.1.1 CPU\n",
      "\n",
      "\u001b[34m\u001b[1mhyperparameters: \u001b[0mlr0=0.01, lrf=0.01, momentum=0.937, weight_decay=0.0005, warmup_epochs=3.0, warmup_momentum=0.8, warmup_bias_lr=0.1, box=0.05, cls=0.5, cls_pw=1.0, obj=1.0, obj_pw=1.0, iou_t=0.2, anchor_t=4.0, fl_gamma=0.0, hsv_h=0.015, hsv_s=0.7, hsv_v=0.4, degrees=0.0, translate=0.1, scale=0.5, shear=0.0, perspective=0.0, flipud=0.0, fliplr=0.5, mosaic=1.0, mixup=0.0, copy_paste=0.0\n",
      "\u001b[34m\u001b[1mComet: \u001b[0mrun 'pip install comet_ml' to automatically track and visualize YOLOv5  runs in Comet\n",
      "\u001b[34m\u001b[1mTensorBoard: \u001b[0mStart with 'tensorboard --logdir yolov5\\runs\\train', view at http://localhost:6006/\n",
      "Overriding model.yaml nc=80 with nc=21\n",
      "\n",
      "                 from  n    params  module                                  arguments                     \n",
      "  0                -1  1      3520  models.common.Conv                      [3, 32, 6, 2, 2]              \n",
      "  1                -1  1     18560  models.common.Conv                      [32, 64, 3, 2]                \n",
      "  2                -1  1     18816  models.common.C3                        [64, 64, 1]                   \n",
      "  3                -1  1     73984  models.common.Conv                      [64, 128, 3, 2]               \n",
      "  4                -1  2    115712  models.common.C3                        [128, 128, 2]                 \n",
      "  5                -1  1    295424  models.common.Conv                      [128, 256, 3, 2]              \n",
      "  6                -1  3    625152  models.common.C3                        [256, 256, 3]                 \n",
      "  7                -1  1   1180672  models.common.Conv                      [256, 512, 3, 2]              \n",
      "  8                -1  1   1182720  models.common.C3                        [512, 512, 1]                 \n",
      "  9                -1  1    656896  models.common.SPPF                      [512, 512, 5]                 \n",
      " 10                -1  1    131584  models.common.Conv                      [512, 256, 1, 1]              \n",
      " 11                -1  1         0  torch.nn.modules.upsampling.Upsample    [None, 2, 'nearest']          \n",
      " 12           [-1, 6]  1         0  models.common.Concat                    [1]                           \n",
      " 13                -1  1    361984  models.common.C3                        [512, 256, 1, False]          \n",
      " 14                -1  1     33024  models.common.Conv                      [256, 128, 1, 1]              \n",
      " 15                -1  1         0  torch.nn.modules.upsampling.Upsample    [None, 2, 'nearest']          \n",
      " 16           [-1, 4]  1         0  models.common.Concat                    [1]                           \n",
      " 17                -1  1     90880  models.common.C3                        [256, 128, 1, False]          \n",
      " 18                -1  1    147712  models.common.Conv                      [128, 128, 3, 2]              \n",
      " 19          [-1, 14]  1         0  models.common.Concat                    [1]                           \n",
      " 20                -1  1    296448  models.common.C3                        [256, 256, 1, False]          \n",
      " 21                -1  1    590336  models.common.Conv                      [256, 256, 3, 2]              \n",
      " 22          [-1, 10]  1         0  models.common.Concat                    [1]                           \n",
      " 23                -1  1   1182720  models.common.C3                        [512, 512, 1, False]          \n",
      " 24      [17, 20, 23]  1     70122  models.yolo.Detect                      [21, [[10, 13, 16, 30, 33, 23], [30, 61, 62, 45, 59, 119], [116, 90, 156, 198, 373, 326]], [128, 256, 512]]\n",
      "YOLOv5s summary: 214 layers, 7076266 parameters, 7076266 gradients, 16.1 GFLOPs\n",
      "\n",
      "Transferred 342/349 items from yolov5s.pt\n",
      "\u001b[34m\u001b[1moptimizer:\u001b[0m SGD(lr=0.01) with parameter groups 57 weight(decay=0.0), 60 weight(decay=0.0005), 60 bias\n",
      "\n",
      "\u001b[34m\u001b[1mtrain: \u001b[0mScanning C:\\Users\\Bro\\Desktop\\PlayData_Final-asdf\\yolov5\\train...:   0%|          | 0/336 [00:00<?, ?it/s]WARNING:tensorflow:From s:\\Program Files\\anaconda3\\Lib\\site-packages\\keras\\src\\losses.py:2976: The name tf.losses.sparse_softmax_cross_entropy is deprecated. Please use tf.compat.v1.losses.sparse_softmax_cross_entropy instead.\n",
      "\n",
      "WARNING:tensorflow:From s:\\Program Files\\anaconda3\\Lib\\site-packages\\keras\\src\\losses.py:2976: The name tf.losses.sparse_softmax_cross_entropy is deprecated. Please use tf.compat.v1.losses.sparse_softmax_cross_entropy instead.\n",
      "\n",
      "WARNING:tensorflow:From s:\\Program Files\\anaconda3\\Lib\\site-packages\\keras\\src\\losses.py:2976: The name tf.losses.sparse_softmax_cross_entropy is deprecated. Please use tf.compat.v1.losses.sparse_softmax_cross_entropy instead.\n",
      "\n",
      "WARNING:tensorflow:From s:\\Program Files\\anaconda3\\Lib\\site-packages\\keras\\src\\losses.py:2976: The name tf.losses.sparse_softmax_cross_entropy is deprecated. Please use tf.compat.v1.losses.sparse_softmax_cross_entropy instead.\n",
      "\n",
      "WARNING:tensorflow:From s:\\Program Files\\anaconda3\\Lib\\site-packages\\keras\\src\\losses.py:2976: The name tf.losses.sparse_softmax_cross_entropy is deprecated. Please use tf.compat.v1.losses.sparse_softmax_cross_entropy instead.\n",
      "\n",
      "\n",
      "\u001b[34m\u001b[1mtrain: \u001b[0mScanning C:\\Users\\Bro\\Desktop\\PlayData_Final-asdf\\yolov5\\train... 1 images, 0 backgrounds, 0 corrupt:   0%|          | 1/336 [00:18<1:41:47, 18.23s/it]\n",
      "\u001b[34m\u001b[1mtrain: \u001b[0mScanning C:\\Users\\Bro\\Desktop\\PlayData_Final-asdf\\yolov5\\train... 53 images, 0 backgrounds, 0 corrupt:  16%|█▌        | 53/336 [00:18<01:09,  4.10it/s]\n",
      "\u001b[34m\u001b[1mtrain: \u001b[0mScanning C:\\Users\\Bro\\Desktop\\PlayData_Final-asdf\\yolov5\\train... 135 images, 0 backgrounds, 0 corrupt:  40%|████      | 135/336 [00:18<00:15, 13.05it/s]\n",
      "\u001b[34m\u001b[1mtrain: \u001b[0mScanning C:\\Users\\Bro\\Desktop\\PlayData_Final-asdf\\yolov5\\train... 213 images, 0 backgrounds, 0 corrupt:  63%|██████▎   | 213/336 [00:18<00:04, 24.90it/s]\n",
      "\u001b[34m\u001b[1mtrain: \u001b[0mScanning C:\\Users\\Bro\\Desktop\\PlayData_Final-asdf\\yolov5\\train... 288 images, 0 backgrounds, 0 corrupt:  86%|████████▌ | 288/336 [00:18<00:01, 40.55it/s]\n",
      "\u001b[34m\u001b[1mtrain: \u001b[0mScanning C:\\Users\\Bro\\Desktop\\PlayData_Final-asdf\\yolov5\\train... 336 images, 0 backgrounds, 0 corrupt: 100%|██████████| 336/336 [00:18<00:00, 17.97it/s]\n",
      "\u001b[34m\u001b[1mtrain: \u001b[0mWARNING  Cache directory C:\\Users\\Bro\\Desktop\\PlayData_Final-asdf\\yolov5 is not writeable: [WinError 183]      : 'C:\\\\Users\\\\Bro\\\\Desktop\\\\PlayData_Final-asdf\\\\yolov5\\\\train.cache.npy' -> 'C:\\\\Users\\\\Bro\\\\Desktop\\\\PlayData_Final-asdf\\\\yolov5\\\\train.cache'\n",
      "WARNING:tensorflow:From s:\\Program Files\\anaconda3\\Lib\\site-packages\\keras\\src\\losses.py:2976: The name tf.losses.sparse_softmax_cross_entropy is deprecated. Please use tf.compat.v1.losses.sparse_softmax_cross_entropy instead.\n",
      "\n",
      "WARNING:tensorflow:From s:\\Program Files\\anaconda3\\Lib\\site-packages\\keras\\src\\losses.py:2976: The name tf.losses.sparse_softmax_cross_entropy is deprecated. Please use tf.compat.v1.losses.sparse_softmax_cross_entropy instead.\n",
      "\n",
      "WARNING:tensorflow:From s:\\Program Files\\anaconda3\\Lib\\site-packages\\keras\\src\\losses.py:2976: The name tf.losses.sparse_softmax_cross_entropy is deprecated. Please use tf.compat.v1.losses.sparse_softmax_cross_entropy instead.\n",
      "\n",
      "WARNING:tensorflow:From s:\\Program Files\\anaconda3\\Lib\\site-packages\\keras\\src\\losses.py:2976: The name tf.losses.sparse_softmax_cross_entropy is deprecated. Please use tf.compat.v1.losses.sparse_softmax_cross_entropy instead.\n",
      "\n",
      "WARNING:tensorflow:From s:\\Program Files\\anaconda3\\Lib\\site-packages\\keras\\src\\losses.py:2976: The name tf.losses.sparse_softmax_cross_entropy is deprecated. Please use tf.compat.v1.losses.sparse_softmax_cross_entropy instead.\n",
      "\n",
      "WARNING:tensorflow:From s:\\Program Files\\anaconda3\\Lib\\site-packages\\keras\\src\\losses.py:2976: The name tf.losses.sparse_softmax_cross_entropy is deprecated. Please use tf.compat.v1.losses.sparse_softmax_cross_entropy instead.\n",
      "\n",
      "\n",
      "\u001b[34m\u001b[1mval: \u001b[0mScanning C:\\Users\\Bro\\Desktop\\PlayData_Final-asdf\\yolov5\\val...:   0%|          | 0/84 [00:00<?, ?it/s]WARNING:tensorflow:From s:\\Program Files\\anaconda3\\Lib\\site-packages\\keras\\src\\losses.py:2976: The name tf.losses.sparse_softmax_cross_entropy is deprecated. Please use tf.compat.v1.losses.sparse_softmax_cross_entropy instead.\n",
      "\n",
      "WARNING:tensorflow:From s:\\Program Files\\anaconda3\\Lib\\site-packages\\keras\\src\\losses.py:2976: The name tf.losses.sparse_softmax_cross_entropy is deprecated. Please use tf.compat.v1.losses.sparse_softmax_cross_entropy instead.\n",
      "\n",
      "WARNING:tensorflow:From s:\\Program Files\\anaconda3\\Lib\\site-packages\\keras\\src\\losses.py:2976: The name tf.losses.sparse_softmax_cross_entropy is deprecated. Please use tf.compat.v1.losses.sparse_softmax_cross_entropy instead.\n",
      "\n",
      "WARNING:tensorflow:From s:\\Program Files\\anaconda3\\Lib\\site-packages\\keras\\src\\losses.py:2976: The name tf.losses.sparse_softmax_cross_entropy is deprecated. Please use tf.compat.v1.losses.sparse_softmax_cross_entropy instead.\n",
      "\n",
      "WARNING:tensorflow:From s:\\Program Files\\anaconda3\\Lib\\site-packages\\keras\\src\\losses.py:2976: The name tf.losses.sparse_softmax_cross_entropy is deprecated. Please use tf.compat.v1.losses.sparse_softmax_cross_entropy instead.\n",
      "\n",
      "\n",
      "\u001b[34m\u001b[1mval: \u001b[0mScanning C:\\Users\\Bro\\Desktop\\PlayData_Final-asdf\\yolov5\\val... 1 images, 0 backgrounds, 0 corrupt:   1%|          | 1/84 [00:17<23:42, 17.14s/it]\n",
      "\u001b[34m\u001b[1mval: \u001b[0mScanning C:\\Users\\Bro\\Desktop\\PlayData_Final-asdf\\yolov5\\val... 72 images, 0 backgrounds, 0 corrupt:  86%|████████▌ | 72/84 [00:17<00:02,  5.92it/s]\n",
      "\u001b[34m\u001b[1mval: \u001b[0mScanning C:\\Users\\Bro\\Desktop\\PlayData_Final-asdf\\yolov5\\val... 84 images, 0 backgrounds, 0 corrupt: 100%|██████████| 84/84 [00:17<00:00,  4.87it/s]\n",
      "\u001b[34m\u001b[1mval: \u001b[0mWARNING  Cache directory C:\\Users\\Bro\\Desktop\\PlayData_Final-asdf\\yolov5 is not writeable: [WinError 183]      : 'C:\\\\Users\\\\Bro\\\\Desktop\\\\PlayData_Final-asdf\\\\yolov5\\\\val.cache.npy' -> 'C:\\\\Users\\\\Bro\\\\Desktop\\\\PlayData_Final-asdf\\\\yolov5\\\\val.cache'\n",
      "WARNING:tensorflow:From s:\\Program Files\\anaconda3\\Lib\\site-packages\\keras\\src\\losses.py:2976: The name tf.losses.sparse_softmax_cross_entropy is deprecated. Please use tf.compat.v1.losses.sparse_softmax_cross_entropy instead.\n",
      "\n",
      "WARNING:tensorflow:From s:\\Program Files\\anaconda3\\Lib\\site-packages\\keras\\src\\losses.py:2976: The name tf.losses.sparse_softmax_cross_entropy is deprecated. Please use tf.compat.v1.losses.sparse_softmax_cross_entropy instead.\n",
      "\n",
      "WARNING:tensorflow:From s:\\Program Files\\anaconda3\\Lib\\site-packages\\keras\\src\\losses.py:2976: The name tf.losses.sparse_softmax_cross_entropy is deprecated. Please use tf.compat.v1.losses.sparse_softmax_cross_entropy instead.\n",
      "\n",
      "WARNING:tensorflow:From s:\\Program Files\\anaconda3\\Lib\\site-packages\\keras\\src\\losses.py:2976: The name tf.losses.sparse_softmax_cross_entropy is deprecated. Please use tf.compat.v1.losses.sparse_softmax_cross_entropy instead.\n",
      "\n",
      "WARNING:tensorflow:From s:\\Program Files\\anaconda3\\Lib\\site-packages\\keras\\src\\losses.py:2976: The name tf.losses.sparse_softmax_cross_entropy is deprecated. Please use tf.compat.v1.losses.sparse_softmax_cross_entropy instead.\n",
      "\n",
      "WARNING:tensorflow:From s:\\Program Files\\anaconda3\\Lib\\site-packages\\keras\\src\\losses.py:2976: The name tf.losses.sparse_softmax_cross_entropy is deprecated. Please use tf.compat.v1.losses.sparse_softmax_cross_entropy instead.\n",
      "\n",
      "\n",
      "\u001b[34m\u001b[1mAutoAnchor: \u001b[0m3.98 anchors/target, 1.000 Best Possible Recall (BPR). Current anchors are a good fit to dataset \n",
      "Plotting labels to yolov5\\runs\\train\\food_yolov5s_results2\\labels.jpg... \n",
      "s:\\Program Files\\anaconda3\\Lib\\site-packages\\seaborn\\_oldcore.py:1119: FutureWarning: use_inf_as_na option is deprecated and will be removed in a future version. Convert inf values to NaN before operating instead.\n",
      "  with pd.option_context('mode.use_inf_as_na', True):\n",
      "s:\\Program Files\\anaconda3\\Lib\\site-packages\\seaborn\\_oldcore.py:1119: FutureWarning: use_inf_as_na option is deprecated and will be removed in a future version. Convert inf values to NaN before operating instead.\n",
      "  with pd.option_context('mode.use_inf_as_na', True):\n",
      "s:\\Program Files\\anaconda3\\Lib\\site-packages\\seaborn\\_oldcore.py:1119: FutureWarning: use_inf_as_na option is deprecated and will be removed in a future version. Convert inf values to NaN before operating instead.\n",
      "  with pd.option_context('mode.use_inf_as_na', True):\n",
      "s:\\Program Files\\anaconda3\\Lib\\site-packages\\seaborn\\_oldcore.py:1119: FutureWarning: use_inf_as_na option is deprecated and will be removed in a future version. Convert inf values to NaN before operating instead.\n",
      "  with pd.option_context('mode.use_inf_as_na', True):\n",
      "s:\\Program Files\\anaconda3\\Lib\\site-packages\\seaborn\\_oldcore.py:1119: FutureWarning: use_inf_as_na option is deprecated and will be removed in a future version. Convert inf values to NaN before operating instead.\n",
      "  with pd.option_context('mode.use_inf_as_na', True):\n",
      "s:\\Program Files\\anaconda3\\Lib\\site-packages\\seaborn\\_oldcore.py:1119: FutureWarning: use_inf_as_na option is deprecated and will be removed in a future version. Convert inf values to NaN before operating instead.\n",
      "  with pd.option_context('mode.use_inf_as_na', True):\n",
      "s:\\Program Files\\anaconda3\\Lib\\site-packages\\seaborn\\_oldcore.py:1119: FutureWarning: use_inf_as_na option is deprecated and will be removed in a future version. Convert inf values to NaN before operating instead.\n",
      "  with pd.option_context('mode.use_inf_as_na', True):\n",
      "s:\\Program Files\\anaconda3\\Lib\\site-packages\\seaborn\\_oldcore.py:1119: FutureWarning: use_inf_as_na option is deprecated and will be removed in a future version. Convert inf values to NaN before operating instead.\n",
      "  with pd.option_context('mode.use_inf_as_na', True):\n",
      "s:\\Program Files\\anaconda3\\Lib\\site-packages\\seaborn\\_oldcore.py:1119: FutureWarning: use_inf_as_na option is deprecated and will be removed in a future version. Convert inf values to NaN before operating instead.\n",
      "  with pd.option_context('mode.use_inf_as_na', True):\n",
      "s:\\Program Files\\anaconda3\\Lib\\site-packages\\seaborn\\_oldcore.py:1119: FutureWarning: use_inf_as_na option is deprecated and will be removed in a future version. Convert inf values to NaN before operating instead.\n",
      "  with pd.option_context('mode.use_inf_as_na', True):\n",
      "s:\\Program Files\\anaconda3\\Lib\\site-packages\\seaborn\\_oldcore.py:1119: FutureWarning: use_inf_as_na option is deprecated and will be removed in a future version. Convert inf values to NaN before operating instead.\n",
      "  with pd.option_context('mode.use_inf_as_na', True):\n",
      "s:\\Program Files\\anaconda3\\Lib\\site-packages\\seaborn\\_oldcore.py:1119: FutureWarning: use_inf_as_na option is deprecated and will be removed in a future version. Convert inf values to NaN before operating instead.\n",
      "  with pd.option_context('mode.use_inf_as_na', True):\n",
      "s:\\Program Files\\anaconda3\\Lib\\site-packages\\seaborn\\_oldcore.py:1119: FutureWarning: use_inf_as_na option is deprecated and will be removed in a future version. Convert inf values to NaN before operating instead.\n",
      "  with pd.option_context('mode.use_inf_as_na', True):\n",
      "s:\\Program Files\\anaconda3\\Lib\\site-packages\\seaborn\\_oldcore.py:1119: FutureWarning: use_inf_as_na option is deprecated and will be removed in a future version. Convert inf values to NaN before operating instead.\n",
      "  with pd.option_context('mode.use_inf_as_na', True):\n",
      "s:\\Program Files\\anaconda3\\Lib\\site-packages\\seaborn\\_oldcore.py:1119: FutureWarning: use_inf_as_na option is deprecated and will be removed in a future version. Convert inf values to NaN before operating instead.\n",
      "  with pd.option_context('mode.use_inf_as_na', True):\n",
      "s:\\Program Files\\anaconda3\\Lib\\site-packages\\seaborn\\_oldcore.py:1119: FutureWarning: use_inf_as_na option is deprecated and will be removed in a future version. Convert inf values to NaN before operating instead.\n",
      "  with pd.option_context('mode.use_inf_as_na', True):\n",
      "s:\\Program Files\\anaconda3\\Lib\\site-packages\\seaborn\\_oldcore.py:1119: FutureWarning: use_inf_as_na option is deprecated and will be removed in a future version. Convert inf values to NaN before operating instead.\n",
      "  with pd.option_context('mode.use_inf_as_na', True):\n",
      "s:\\Program Files\\anaconda3\\Lib\\site-packages\\seaborn\\_oldcore.py:1119: FutureWarning: use_inf_as_na option is deprecated and will be removed in a future version. Convert inf values to NaN before operating instead.\n",
      "  with pd.option_context('mode.use_inf_as_na', True):\n",
      "s:\\Program Files\\anaconda3\\Lib\\site-packages\\seaborn\\_oldcore.py:1119: FutureWarning: use_inf_as_na option is deprecated and will be removed in a future version. Convert inf values to NaN before operating instead.\n",
      "  with pd.option_context('mode.use_inf_as_na', True):\n",
      "s:\\Program Files\\anaconda3\\Lib\\site-packages\\seaborn\\_oldcore.py:1119: FutureWarning: use_inf_as_na option is deprecated and will be removed in a future version. Convert inf values to NaN before operating instead.\n",
      "  with pd.option_context('mode.use_inf_as_na', True):\n",
      "Image sizes 416 train, 416 val\n",
      "Using 6 dataloader workers\n",
      "Logging results to \u001b[1myolov5\\runs\\train\\food_yolov5s_results2\u001b[0m\n",
      "Starting training for 3 epochs...\n",
      "\n",
      "      Epoch    GPU_mem   box_loss   obj_loss   cls_loss  Instances       Size\n",
      "\n",
      "  0%|          | 0/21 [00:00<?, ?it/s]\n",
      "        0/2         0G     0.1166    0.02413    0.09118         57        416:   0%|          | 0/21 [00:03<?, ?it/s]\n",
      "        0/2         0G     0.1166    0.02413    0.09118         57        416:   5%|▍         | 1/21 [00:07<02:33,  7.69s/it]\n",
      "        0/2         0G     0.1181    0.02362    0.08576         58        416:   5%|▍         | 1/21 [00:10<02:33,  7.69s/it]\n",
      "        0/2         0G     0.1181    0.02362    0.08576         58        416:  10%|▉         | 2/21 [00:10<01:29,  4.73s/it]\n",
      "        0/2         0G     0.1026    0.02234    0.07474         42        416:  10%|▉         | 2/21 [00:12<01:29,  4.73s/it]\n",
      "        0/2         0G     0.1026    0.02234    0.07474         42        416:  14%|█▍        | 3/21 [00:12<01:06,  3.71s/it]\n",
      "        0/2         0G     0.1068    0.02235    0.07701         51        416:  14%|█▍        | 3/21 [00:15<01:06,  3.71s/it]\n",
      "        0/2         0G     0.1068    0.02235    0.07701         51        416:  19%|█▉        | 4/21 [00:15<00:54,  3.24s/it]\n",
      "        0/2         0G     0.1093    0.02223    0.07887         49        416:  19%|█▉        | 4/21 [00:17<00:54,  3.24s/it]\n",
      "        0/2         0G     0.1093    0.02223    0.07887         49        416:  24%|██▍       | 5/21 [00:17<00:47,  2.94s/it]\n",
      "        0/2         0G     0.1114    0.02263    0.08057         56        416:  24%|██▍       | 5/21 [00:20<00:47,  2.94s/it]\n",
      "        0/2         0G     0.1114    0.02263    0.08057         56        416:  29%|██▊       | 6/21 [00:20<00:40,  2.72s/it]\n",
      "        0/2         0G     0.1119    0.02258    0.08044         47        416:  29%|██▊       | 6/21 [00:22<00:40,  2.72s/it]\n",
      "        0/2         0G     0.1119    0.02258    0.08044         47        416:  33%|███▎      | 7/21 [00:22<00:36,  2.63s/it]\n",
      "        0/2         0G     0.1107    0.02282    0.08049         48        416:  33%|███▎      | 7/21 [00:24<00:36,  2.63s/it]\n",
      "        0/2         0G     0.1107    0.02282    0.08049         48        416:  38%|███▊      | 8/21 [00:24<00:32,  2.50s/it]\n",
      "        0/2         0G      0.112    0.02283    0.08056         52        416:  38%|███▊      | 8/21 [00:27<00:32,  2.50s/it]\n",
      "        0/2         0G      0.112    0.02283    0.08056         52        416:  43%|████▎     | 9/21 [00:27<00:29,  2.45s/it]\n",
      "        0/2         0G     0.1118    0.02301    0.08063         51        416:  43%|████▎     | 9/21 [00:29<00:29,  2.45s/it]\n",
      "        0/2         0G     0.1118    0.02301    0.08063         51        416:  48%|████▊     | 10/21 [00:29<00:26,  2.41s/it]\n",
      "        0/2         0G     0.1113    0.02322    0.08047         49        416:  48%|████▊     | 10/21 [00:31<00:26,  2.41s/it]\n",
      "        0/2         0G     0.1113    0.02322    0.08047         49        416:  52%|█████▏    | 11/21 [00:31<00:24,  2.41s/it]\n",
      "        0/2         0G      0.111    0.02343    0.08071         55        416:  52%|█████▏    | 11/21 [00:34<00:24,  2.41s/it]\n",
      "        0/2         0G      0.111    0.02343    0.08071         55        416:  57%|█████▋    | 12/21 [00:34<00:21,  2.35s/it]\n",
      "        0/2         0G     0.1099    0.02339    0.08057         46        416:  57%|█████▋    | 12/21 [00:36<00:21,  2.35s/it]\n",
      "        0/2         0G     0.1099    0.02339    0.08057         46        416:  62%|██████▏   | 13/21 [00:36<00:18,  2.33s/it]\n",
      "        0/2         0G     0.1095    0.02337    0.08048         40        416:  62%|██████▏   | 13/21 [00:38<00:18,  2.33s/it]\n",
      "        0/2         0G     0.1095    0.02337    0.08048         40        416:  67%|██████▋   | 14/21 [00:38<00:16,  2.33s/it]\n",
      "        0/2         0G     0.1091     0.0233    0.08032         44        416:  67%|██████▋   | 14/21 [00:40<00:16,  2.33s/it]\n",
      "        0/2         0G     0.1091     0.0233    0.08032         44        416:  71%|███████▏  | 15/21 [00:40<00:13,  2.31s/it]\n",
      "        0/2         0G     0.1085    0.02405     0.0802         69        416:  71%|███████▏  | 15/21 [00:43<00:13,  2.31s/it]\n",
      "        0/2         0G     0.1085    0.02405     0.0802         69        416:  76%|███████▌  | 16/21 [00:43<00:11,  2.32s/it]\n",
      "        0/2         0G     0.1081    0.02414    0.07981         53        416:  76%|███████▌  | 16/21 [00:45<00:11,  2.32s/it]\n",
      "        0/2         0G     0.1081    0.02414    0.07981         53        416:  81%|████████  | 17/21 [00:45<00:09,  2.31s/it]\n",
      "        0/2         0G     0.1073    0.02464    0.07984         62        416:  81%|████████  | 17/21 [00:47<00:09,  2.31s/it]\n",
      "        0/2         0G     0.1073    0.02464    0.07984         62        416:  86%|████████▌ | 18/21 [00:47<00:06,  2.32s/it]\n",
      "        0/2         0G     0.1067    0.02485    0.07965         52        416:  86%|████████▌ | 18/21 [00:50<00:06,  2.32s/it]\n",
      "        0/2         0G     0.1067    0.02485    0.07965         52        416:  90%|█████████ | 19/21 [00:50<00:04,  2.30s/it]\n",
      "        0/2         0G     0.1063    0.02513    0.07919         57        416:  90%|█████████ | 19/21 [00:52<00:04,  2.30s/it]\n",
      "        0/2         0G     0.1063    0.02513    0.07919         57        416:  95%|█████████▌| 20/21 [00:52<00:02,  2.31s/it]\n",
      "        0/2         0G     0.1059    0.02546    0.07878         58        416:  95%|█████████▌| 20/21 [00:54<00:02,  2.31s/it]\n",
      "        0/2         0G     0.1059    0.02546    0.07878         58        416: 100%|██████████| 21/21 [00:54<00:00,  2.30s/it]\n",
      "        0/2         0G     0.1059    0.02546    0.07878         58        416: 100%|██████████| 21/21 [00:54<00:00,  2.61s/it]\n",
      "\n",
      "                 Class     Images  Instances          P          R      mAP50   mAP50-95:   0%|          | 0/3 [00:00<?, ?it/s]\n",
      "                 Class     Images  Instances          P          R      mAP50   mAP50-95:  33%|███▎      | 1/3 [00:02<00:04,  2.16s/it]\n",
      "                 Class     Images  Instances          P          R      mAP50   mAP50-95:  67%|██████▋   | 2/3 [00:04<00:02,  2.21s/it]\n",
      "                 Class     Images  Instances          P          R      mAP50   mAP50-95: 100%|██████████| 3/3 [00:05<00:00,  1.84s/it]\n",
      "                 Class     Images  Instances          P          R      mAP50   mAP50-95: 100%|██████████| 3/3 [00:05<00:00,  1.93s/it]\n",
      "                   all         84        136    0.00275      0.534     0.0051    0.00158\n",
      "\n",
      "      Epoch    GPU_mem   box_loss   obj_loss   cls_loss  Instances       Size\n",
      "\n",
      "  0%|          | 0/21 [00:00<?, ?it/s]\n",
      "        1/2         0G    0.09172    0.03098    0.08057         60        416:   0%|          | 0/21 [00:02<?, ?it/s]\n",
      "        1/2         0G    0.09172    0.03098    0.08057         60        416:   5%|▍         | 1/21 [00:02<00:46,  2.32s/it]\n",
      "        1/2         0G     0.0942    0.03128    0.07634         59        416:   5%|▍         | 1/21 [00:04<00:46,  2.32s/it]\n",
      "        1/2         0G     0.0942    0.03128    0.07634         59        416:  10%|▉         | 2/21 [00:04<00:43,  2.28s/it]\n",
      "        1/2         0G     0.0904    0.03081    0.07782         47        416:  10%|▉         | 2/21 [00:06<00:43,  2.28s/it]\n",
      "        1/2         0G     0.0904    0.03081    0.07782         47        416:  14%|█▍        | 3/21 [00:06<00:40,  2.27s/it]\n",
      "        1/2         0G    0.09068    0.03139    0.07573         63        416:  14%|█▍        | 3/21 [00:09<00:40,  2.27s/it]\n",
      "        1/2         0G    0.09068    0.03139    0.07573         63        416:  19%|█▉        | 4/21 [00:09<00:38,  2.26s/it]\n",
      "        1/2         0G    0.08929    0.03175    0.07445         61        416:  19%|█▉        | 4/21 [00:11<00:38,  2.26s/it]\n",
      "        1/2         0G    0.08929    0.03175    0.07445         61        416:  24%|██▍       | 5/21 [00:11<00:36,  2.29s/it]\n",
      "        1/2         0G    0.08997      0.031     0.0726         52        416:  24%|██▍       | 5/21 [00:13<00:36,  2.29s/it]\n",
      "        1/2         0G    0.08997      0.031     0.0726         52        416:  29%|██▊       | 6/21 [00:13<00:35,  2.33s/it]\n",
      "        1/2         0G    0.08909    0.03136     0.0722         58        416:  29%|██▊       | 6/21 [00:16<00:35,  2.33s/it]\n",
      "        1/2         0G    0.08909    0.03136     0.0722         58        416:  33%|███▎      | 7/21 [00:16<00:32,  2.33s/it]\n",
      "        1/2         0G    0.08693    0.03012    0.07044         36        416:  33%|███▎      | 7/21 [00:18<00:32,  2.33s/it]\n",
      "        1/2         0G    0.08693    0.03012    0.07044         36        416:  38%|███▊      | 8/21 [00:18<00:30,  2.31s/it]\n",
      "        1/2         0G    0.08667    0.03071    0.06992         61        416:  38%|███▊      | 8/21 [00:20<00:30,  2.31s/it]\n",
      "        1/2         0G    0.08667    0.03071    0.06992         61        416:  43%|████▎     | 9/21 [00:20<00:27,  2.31s/it]\n",
      "        1/2         0G    0.08685     0.0311    0.07107         62        416:  43%|████▎     | 9/21 [00:22<00:27,  2.31s/it]\n",
      "        1/2         0G    0.08685     0.0311    0.07107         62        416:  48%|████▊     | 10/21 [00:22<00:25,  2.29s/it]\n",
      "        1/2         0G     0.0866    0.03165    0.07087         62        416:  48%|████▊     | 10/21 [00:25<00:25,  2.29s/it]\n",
      "        1/2         0G     0.0866    0.03165    0.07087         62        416:  52%|█████▏    | 11/21 [00:25<00:23,  2.31s/it]\n",
      "        1/2         0G    0.08649    0.03151    0.07142         55        416:  52%|█████▏    | 11/21 [00:27<00:23,  2.31s/it]\n",
      "        1/2         0G    0.08649    0.03151    0.07142         55        416:  57%|█████▋    | 12/21 [00:27<00:20,  2.29s/it]\n",
      "        1/2         0G    0.08509    0.03161    0.07156         53        416:  57%|█████▋    | 12/21 [00:30<00:20,  2.29s/it]\n",
      "        1/2         0G    0.08509    0.03161    0.07156         53        416:  62%|██████▏   | 13/21 [00:30<00:18,  2.34s/it]\n",
      "        1/2         0G     0.0847    0.03178    0.07145         54        416:  62%|██████▏   | 13/21 [00:32<00:18,  2.34s/it]\n",
      "        1/2         0G     0.0847    0.03178    0.07145         54        416:  67%|██████▋   | 14/21 [00:32<00:17,  2.45s/it]\n",
      "        1/2         0G    0.08419     0.0317    0.07151         55        416:  67%|██████▋   | 14/21 [00:35<00:17,  2.45s/it]\n",
      "        1/2         0G    0.08419     0.0317    0.07151         55        416:  71%|███████▏  | 15/21 [00:35<00:14,  2.41s/it]\n",
      "        1/2         0G    0.08382    0.03163    0.07156         51        416:  71%|███████▏  | 15/21 [00:37<00:14,  2.41s/it]\n",
      "        1/2         0G    0.08382    0.03163    0.07156         51        416:  76%|███████▌  | 16/21 [00:37<00:11,  2.36s/it]\n",
      "        1/2         0G     0.0832     0.0314    0.07087         50        416:  76%|███████▌  | 16/21 [00:39<00:11,  2.36s/it]\n",
      "        1/2         0G     0.0832     0.0314    0.07087         50        416:  81%|████████  | 17/21 [00:39<00:09,  2.34s/it]\n",
      "        1/2         0G    0.08249    0.03111     0.0704         46        416:  81%|████████  | 17/21 [00:41<00:09,  2.34s/it]\n",
      "        1/2         0G    0.08249    0.03111     0.0704         46        416:  86%|████████▌ | 18/21 [00:41<00:06,  2.33s/it]\n",
      "        1/2         0G     0.0821    0.03116    0.06976         58        416:  86%|████████▌ | 18/21 [00:44<00:06,  2.33s/it]\n",
      "        1/2         0G     0.0821    0.03116    0.06976         58        416:  90%|█████████ | 19/21 [00:44<00:04,  2.31s/it]\n",
      "        1/2         0G    0.08197    0.03074    0.06963         38        416:  90%|█████████ | 19/21 [00:46<00:04,  2.31s/it]\n",
      "        1/2         0G    0.08197    0.03074    0.06963         38        416:  95%|█████████▌| 20/21 [00:46<00:02,  2.32s/it]\n",
      "        1/2         0G    0.08145    0.03074     0.0697         49        416:  95%|█████████▌| 20/21 [00:48<00:02,  2.32s/it]\n",
      "        1/2         0G    0.08145    0.03074     0.0697         49        416: 100%|██████████| 21/21 [00:48<00:00,  2.30s/it]\n",
      "        1/2         0G    0.08145    0.03074     0.0697         49        416: 100%|██████████| 21/21 [00:48<00:00,  2.32s/it]\n",
      "\n",
      "                 Class     Images  Instances          P          R      mAP50   mAP50-95:   0%|          | 0/3 [00:00<?, ?it/s]\n",
      "                 Class     Images  Instances          P          R      mAP50   mAP50-95:  33%|███▎      | 1/3 [00:01<00:03,  1.98s/it]\n",
      "                 Class     Images  Instances          P          R      mAP50   mAP50-95:  67%|██████▋   | 2/3 [00:04<00:02,  2.09s/it]\n",
      "                 Class     Images  Instances          P          R      mAP50   mAP50-95: 100%|██████████| 3/3 [00:05<00:00,  1.74s/it]\n",
      "                 Class     Images  Instances          P          R      mAP50   mAP50-95: 100%|██████████| 3/3 [00:05<00:00,  1.83s/it]\n",
      "                   all         84        136    0.00407      0.741     0.0344     0.0116\n",
      "\n",
      "      Epoch    GPU_mem   box_loss   obj_loss   cls_loss  Instances       Size\n",
      "\n",
      "  0%|          | 0/21 [00:00<?, ?it/s]\n",
      "        2/2         0G      0.066    0.02599    0.07967         41        416:   0%|          | 0/21 [00:02<?, ?it/s]\n",
      "        2/2         0G      0.066    0.02599    0.07967         41        416:   5%|▍         | 1/21 [00:02<00:46,  2.35s/it]\n",
      "        2/2         0G    0.06934    0.03118    0.07319         58        416:   5%|▍         | 1/21 [00:04<00:46,  2.35s/it]\n",
      "        2/2         0G    0.06934    0.03118    0.07319         58        416:  10%|▉         | 2/21 [00:04<00:43,  2.28s/it]\n",
      "        2/2         0G    0.07265    0.03314    0.07036         62        416:  10%|▉         | 2/21 [00:06<00:43,  2.28s/it]\n",
      "        2/2         0G    0.07265    0.03314    0.07036         62        416:  14%|█▍        | 3/21 [00:06<00:41,  2.29s/it]\n",
      "        2/2         0G    0.07126    0.03255    0.06981         50        416:  14%|█▍        | 3/21 [00:09<00:41,  2.29s/it]\n",
      "        2/2         0G    0.07126    0.03255    0.06981         50        416:  19%|█▉        | 4/21 [00:09<00:38,  2.28s/it]\n",
      "        2/2         0G    0.07104    0.03169    0.07077         48        416:  19%|█▉        | 4/21 [00:11<00:38,  2.28s/it]\n",
      "        2/2         0G    0.07104    0.03169    0.07077         48        416:  24%|██▍       | 5/21 [00:11<00:37,  2.32s/it]\n",
      "        2/2         0G    0.07171    0.03277    0.06892         64        416:  24%|██▍       | 5/21 [00:13<00:37,  2.32s/it]\n",
      "        2/2         0G    0.07171    0.03277    0.06892         64        416:  29%|██▊       | 6/21 [00:13<00:34,  2.29s/it]\n",
      "        2/2         0G    0.07167    0.03328    0.06865         59        416:  29%|██▊       | 6/21 [00:16<00:34,  2.29s/it]\n",
      "        2/2         0G    0.07167    0.03328    0.06865         59        416:  33%|███▎      | 7/21 [00:16<00:32,  2.31s/it]\n",
      "        2/2         0G    0.07141    0.03287    0.06906         48        416:  33%|███▎      | 7/21 [00:18<00:32,  2.31s/it]\n",
      "        2/2         0G    0.07141    0.03287    0.06906         48        416:  38%|███▊      | 8/21 [00:18<00:30,  2.31s/it]\n",
      "        2/2         0G    0.07109    0.03263    0.06818         51        416:  38%|███▊      | 8/21 [00:20<00:30,  2.31s/it]\n",
      "        2/2         0G    0.07109    0.03263    0.06818         51        416:  43%|████▎     | 9/21 [00:20<00:28,  2.34s/it]\n",
      "        2/2         0G    0.07073    0.03252    0.06758         53        416:  43%|████▎     | 9/21 [00:23<00:28,  2.34s/it]\n",
      "        2/2         0G    0.07073    0.03252    0.06758         53        416:  48%|████▊     | 10/21 [00:23<00:25,  2.30s/it]\n",
      "        2/2         0G    0.07048    0.03226     0.0683         49        416:  48%|████▊     | 10/21 [00:25<00:25,  2.30s/it]\n",
      "        2/2         0G    0.07048    0.03226     0.0683         49        416:  52%|█████▏    | 11/21 [00:25<00:22,  2.29s/it]\n",
      "        2/2         0G    0.06994    0.03231    0.06841         55        416:  52%|█████▏    | 11/21 [00:27<00:22,  2.29s/it]\n",
      "        2/2         0G    0.06994    0.03231    0.06841         55        416:  57%|█████▋    | 12/21 [00:27<00:20,  2.30s/it]\n",
      "        2/2         0G    0.06956    0.03224     0.0683         55        416:  57%|█████▋    | 12/21 [00:29<00:20,  2.30s/it]\n",
      "        2/2         0G    0.06956    0.03224     0.0683         55        416:  62%|██████▏   | 13/21 [00:29<00:18,  2.31s/it]\n",
      "        2/2         0G    0.06949    0.03214    0.06801         52        416:  62%|██████▏   | 13/21 [00:32<00:18,  2.31s/it]\n",
      "        2/2         0G    0.06949    0.03214    0.06801         52        416:  67%|██████▋   | 14/21 [00:32<00:15,  2.28s/it]\n",
      "        2/2         0G    0.07015    0.03229    0.06708         67        416:  67%|██████▋   | 14/21 [00:34<00:15,  2.28s/it]\n",
      "        2/2         0G    0.07015    0.03229    0.06708         67        416:  71%|███████▏  | 15/21 [00:34<00:13,  2.30s/it]\n",
      "        2/2         0G    0.07089    0.03238    0.06694         60        416:  71%|███████▏  | 15/21 [00:36<00:13,  2.30s/it]\n",
      "        2/2         0G    0.07089    0.03238    0.06694         60        416:  76%|███████▌  | 16/21 [00:36<00:11,  2.32s/it]\n",
      "        2/2         0G    0.07088    0.03194    0.06672         45        416:  76%|███████▌  | 16/21 [00:39<00:11,  2.32s/it]\n",
      "        2/2         0G    0.07088    0.03194    0.06672         45        416:  81%|████████  | 17/21 [00:39<00:09,  2.30s/it]\n",
      "        2/2         0G    0.07068    0.03231    0.06606         65        416:  81%|████████  | 17/21 [00:41<00:09,  2.30s/it]\n",
      "        2/2         0G    0.07068    0.03231    0.06606         65        416:  86%|████████▌ | 18/21 [00:41<00:06,  2.33s/it]\n",
      "        2/2         0G    0.07041    0.03275    0.06621         70        416:  86%|████████▌ | 18/21 [00:43<00:06,  2.33s/it]\n",
      "        2/2         0G    0.07041    0.03275    0.06621         70        416:  90%|█████████ | 19/21 [00:43<00:04,  2.29s/it]\n",
      "        2/2         0G    0.07058    0.03244    0.06638         49        416:  90%|█████████ | 19/21 [00:46<00:04,  2.29s/it]\n",
      "        2/2         0G    0.07058    0.03244    0.06638         49        416:  95%|█████████▌| 20/21 [00:46<00:02,  2.31s/it]\n",
      "        2/2         0G    0.07068    0.03265    0.06608         65        416:  95%|█████████▌| 20/21 [00:48<00:02,  2.31s/it]\n",
      "        2/2         0G    0.07068    0.03265    0.06608         65        416: 100%|██████████| 21/21 [00:48<00:00,  2.30s/it]\n",
      "        2/2         0G    0.07068    0.03265    0.06608         65        416: 100%|██████████| 21/21 [00:48<00:00,  2.30s/it]\n",
      "\n",
      "                 Class     Images  Instances          P          R      mAP50   mAP50-95:   0%|          | 0/3 [00:00<?, ?it/s]\n",
      "                 Class     Images  Instances          P          R      mAP50   mAP50-95:  33%|███▎      | 1/3 [00:01<00:03,  1.99s/it]\n",
      "                 Class     Images  Instances          P          R      mAP50   mAP50-95:  67%|██████▋   | 2/3 [00:04<00:02,  2.11s/it]\n",
      "                 Class     Images  Instances          P          R      mAP50   mAP50-95: 100%|██████████| 3/3 [00:05<00:00,  1.73s/it]\n",
      "                 Class     Images  Instances          P          R      mAP50   mAP50-95: 100%|██████████| 3/3 [00:05<00:00,  1.82s/it]\n",
      "                   all         84        136      0.779     0.0396     0.0497     0.0202\n",
      "\n",
      "3 epochs completed in 0.048 hours.\n",
      "Optimizer stripped from yolov5\\runs\\train\\food_yolov5s_results2\\weights\\last.pt, 14.4MB\n",
      "Optimizer stripped from yolov5\\runs\\train\\food_yolov5s_results2\\weights\\best.pt, 14.4MB\n",
      "\n",
      "Validating yolov5\\runs\\train\\food_yolov5s_results2\\weights\\best.pt...\n",
      "Fusing layers... \n",
      "YOLOv5s summary: 157 layers, 7066762 parameters, 0 gradients, 15.9 GFLOPs\n",
      "\n",
      "                 Class     Images  Instances          P          R      mAP50   mAP50-95:   0%|          | 0/3 [00:00<?, ?it/s]\n",
      "                 Class     Images  Instances          P          R      mAP50   mAP50-95:  33%|███▎      | 1/3 [00:01<00:03,  1.70s/it]\n",
      "                 Class     Images  Instances          P          R      mAP50   mAP50-95:  67%|██████▋   | 2/3 [00:03<00:01,  1.90s/it]\n",
      "                 Class     Images  Instances          P          R      mAP50   mAP50-95: 100%|██████████| 3/3 [00:05<00:00,  1.65s/it]\n",
      "                 Class     Images  Instances          P          R      mAP50   mAP50-95: 100%|██████████| 3/3 [00:05<00:00,  1.70s/it]\n",
      "                   all         84        136      0.733     0.0455     0.0502     0.0204\n",
      "                potato         84          8     0.0659      0.125     0.0465      0.026\n",
      "                kimchi         84          3          1          0     0.0486     0.0187\n",
      "                  tofu         84          1          1          0    0.00921    0.00309\n",
      "                 onion         84          5          1          0      0.158      0.035\n",
      "                   egg         84          5          1          0      0.148     0.0944\n",
      "          sweet potato         84          3          0          0     0.0224     0.0141\n",
      "        enoki mushroom         84          2          0          0     0.0265     0.0155\n",
      "              cucumber         84          7          1          0     0.0218    0.00984\n",
      "                 bread         84          6          1          0     0.0868     0.0347\n",
      "  King oyster mushroom         84          7          1          0     0.0118    0.00174\n",
      "           samgyeopsal         84          6          1          0    0.00723    0.00146\n",
      "               chicken         84          3          1          0     0.0312      0.017\n",
      "                  beef         84          3          1          0     0.0291     0.0218\n",
      "                carrot         84         33      0.239      0.212      0.164     0.0526\n",
      "           green onion         84          8          1          0     0.0592     0.0159\n",
      "             fish cake         84          5          1          0     0.0177    0.00692\n",
      "               carding         84          1          1          0    0.00198   0.000791\n",
      "                shrimp         84          2          0          0    0.00365    0.00171\n",
      "               sausage         84         21     0.0948      0.619      0.108      0.029\n",
      "               seaweed         84          3          1          0          0          0\n",
      "               cabbage         84          4          1          0     0.0528     0.0284\n",
      "Results saved to \u001b[1myolov5\\runs\\train\\food_yolov5s_results2\u001b[0m\n"
     ]
    }
   ],
   "source": [
    "!python yolov5/train.py --img 416 --batch 16 --epochs 3 --data image_data/data.yaml --cfg yolov5/models/yolov5s.yaml --weights yolov5s.pt --name food_yolov5s_results --device cpu"
   ]
  },
  {
   "cell_type": "markdown",
   "id": "c9521b80",
   "metadata": {},
   "source": [
    "# 모델 평가"
   ]
  },
  {
   "cell_type": "code",
   "execution_count": 5,
   "id": "ce5fed02",
   "metadata": {},
   "outputs": [
    {
     "name": "stderr",
     "output_type": "stream",
     "text": [
      "\u001b[34m\u001b[1mdetect: \u001b[0mweights=['yolov5/runs/train/food_yolov5s_results/weights/best.pt'], source=20240213_114040.jpg, data=yolov5\\data\\coco128.yaml, imgsz=[416, 416], conf_thres=0.2, iou_thres=0.45, max_det=1000, device=, view_img=False, save_txt=False, save_csv=False, save_conf=False, save_crop=False, nosave=False, classes=None, agnostic_nms=False, augment=False, visualize=False, update=False, project=yolov5\\runs\\detect, name=exp, exist_ok=False, line_thickness=3, hide_labels=False, hide_conf=False, half=False, dnn=False, vid_stride=1\n",
      "YOLOv5  2024-1-18 Python-3.11.5 torch-2.1.1 CUDA:0 (NVIDIA GeForce GTX 1660 SUPER, 6144MiB)\n",
      "\n",
      "Fusing layers... \n",
      "YOLOv5s summary: 157 layers, 7066762 parameters, 0 gradients, 15.9 GFLOPs\n",
      "WARNING  NMS time limit 0.550s exceeded\n",
      "image 1/1 C:\\Users\\Bro\\Desktop\\PlayData_Final-asdf\\20240213_114040.jpg: 416x320 1 potato, 1 onion, 2 eggs, 1 enoki mushroom, 36.0ms\n",
      "Speed: 1.0ms pre-process, 36.0ms inference, 911.0ms NMS per image at shape (1, 3, 416, 416)\n",
      "Results saved to \u001b[1myolov5\\runs\\detect\\exp\u001b[0m\n"
     ]
    }
   ],
   "source": [
    "!python yolov5/detect.py --weights yolov5/runs/train/food_yolov5s_results/weights/best.pt --img 416 --conf 0.2 --source 20240213_114040.jpg"
   ]
  },
  {
   "cell_type": "code",
   "execution_count": null,
   "id": "eb407eb2",
   "metadata": {},
   "outputs": [],
   "source": []
  }
 ],
 "metadata": {
  "kernelspec": {
   "display_name": "final",
   "language": "python",
   "name": "python3"
  },
  "language_info": {
   "codemirror_mode": {
    "name": "ipython",
    "version": 3
   },
   "file_extension": ".py",
   "mimetype": "text/x-python",
   "name": "python",
   "nbconvert_exporter": "python",
   "pygments_lexer": "ipython3",
   "version": "3.11.5"
  }
 },
 "nbformat": 4,
 "nbformat_minor": 5
}
